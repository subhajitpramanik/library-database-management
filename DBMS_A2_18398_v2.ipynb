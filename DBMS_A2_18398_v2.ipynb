{
 "cells": [
  {
   "cell_type": "markdown",
   "metadata": {},
   "source": [
    "# Name: Subhajit Pramanik\n",
    "\n",
    "# Department of Economic Science\n",
    "\n",
    "# Roll Number: 18398\n",
    "\n",
    "# Database Management System - DSE 310\n",
    "\n",
    "# Assignment 2"
   ]
  },
  {
   "cell_type": "markdown",
   "metadata": {},
   "source": [
    "# Installing packages"
   ]
  },
  {
   "cell_type": "code",
   "execution_count": 1,
   "metadata": {},
   "outputs": [
    {
     "name": "stdout",
     "output_type": "stream",
     "text": [
      "Requirement already satisfied: mysql-connector-python in c:\\users\\subha\\anaconda3\\lib\\site-packages (8.0.28)\n",
      "Requirement already satisfied: protobuf>=3.0.0 in c:\\users\\subha\\anaconda3\\lib\\site-packages (from mysql-connector-python) (3.19.1)\n",
      "Note: you may need to restart the kernel to use updated packages.\n"
     ]
    }
   ],
   "source": [
    "pip install mysql-connector-python"
   ]
  },
  {
   "cell_type": "code",
   "execution_count": 2,
   "metadata": {},
   "outputs": [
    {
     "name": "stdout",
     "output_type": "stream",
     "text": [
      "Requirement already satisfied: pandas in c:\\users\\subha\\anaconda3\\lib\\site-packages (1.1.1)\n",
      "Requirement already satisfied: numpy>=1.15.4 in c:\\users\\subha\\anaconda3\\lib\\site-packages (from pandas) (1.18.5)\n",
      "Requirement already satisfied: pytz>=2017.2 in c:\\users\\subha\\anaconda3\\lib\\site-packages (from pandas) (2020.1)\n",
      "Requirement already satisfied: python-dateutil>=2.7.3 in c:\\users\\subha\\anaconda3\\lib\\site-packages (from pandas) (2.8.1)\n",
      "Requirement already satisfied: six>=1.5 in c:\\users\\subha\\anaconda3\\lib\\site-packages (from python-dateutil>=2.7.3->pandas) (1.15.0)\n",
      "Note: you may need to restart the kernel to use updated packages.\n"
     ]
    }
   ],
   "source": [
    "pip install pandas "
   ]
  },
  {
   "cell_type": "markdown",
   "metadata": {},
   "source": [
    "# Importing packages"
   ]
  },
  {
   "cell_type": "code",
   "execution_count": 3,
   "metadata": {},
   "outputs": [],
   "source": [
    "import pandas as pd"
   ]
  },
  {
   "cell_type": "code",
   "execution_count": 4,
   "metadata": {},
   "outputs": [],
   "source": [
    "import mysql.connector\n",
    "from mysql.connector import Error"
   ]
  },
  {
   "cell_type": "markdown",
   "metadata": {},
   "source": [
    "# Defining Functions"
   ]
  },
  {
   "cell_type": "code",
   "execution_count": 5,
   "metadata": {},
   "outputs": [],
   "source": [
    "def create_db_connection(host_name, user_name, user_password, db_name):\n",
    "    connection = None\n",
    "    try:\n",
    "        connection = mysql.connector.connect(\n",
    "            host=host_name,\n",
    "            user=user_name,\n",
    "            passwd=user_password,\n",
    "            database=db_name\n",
    "        )\n",
    "        print(\"MySQL Database connection successful\")\n",
    "    except Error as err:\n",
    "        print(\"Error: '{err}'\")\n",
    "\n",
    "    return connection"
   ]
  },
  {
   "cell_type": "code",
   "execution_count": 6,
   "metadata": {},
   "outputs": [],
   "source": [
    "def create_database(connection, query):\n",
    "    cursor = connection.cursor()\n",
    "    try:\n",
    "        cursor.execute(query)\n",
    "        print(\"Database created successfully\")\n",
    "    except Error as err:\n",
    "        print(\"Error: '{err}'\")"
   ]
  },
  {
   "cell_type": "code",
   "execution_count": 7,
   "metadata": {},
   "outputs": [],
   "source": [
    "def execute_query(connection, query):\n",
    "    cursor = connection.cursor()\n",
    "    try:\n",
    "        cursor.execute(query)\n",
    "        connection.commit()\n",
    "        print(\"Query successful\")\n",
    "    except Error as err:\n",
    "        print(\"Error: '{err}'\")"
   ]
  },
  {
   "cell_type": "code",
   "execution_count": 8,
   "metadata": {},
   "outputs": [],
   "source": [
    "def read_query(connection, query):\n",
    "    cursor = connection.cursor()\n",
    "    result = None\n",
    "    try:\n",
    "        cursor.execute(query)\n",
    "        result = cursor.fetchall()\n",
    "        return result\n",
    "    except Error as err:\n",
    "        print(\"Error: '{err}'\")"
   ]
  },
  {
   "cell_type": "markdown",
   "metadata": {},
   "source": [
    "# Creating a table"
   ]
  },
  {
   "cell_type": "code",
   "execution_count": 10,
   "metadata": {},
   "outputs": [
    {
     "name": "stdout",
     "output_type": "stream",
     "text": [
      "MySQL Database connection successful\n",
      "Query successful\n"
     ]
    }
   ],
   "source": [
    "create_classtable3 = \"\"\"\n",
    "CREATE TABLE classtable3 (\n",
    "  RollNumber INT NOT NULL UNIQUE,\n",
    "  Name VARCHAR(40) NOT NULL,\n",
    "  Year VARCHAR(10),\n",
    "  Marks INT,\n",
    "  Gender VARCHAR(2),\n",
    "  Subject VARCHAR(20) NOT NULL PRIMARY KEY UNIQUE\n",
    "  \n",
    "  );\n",
    " \"\"\"\n",
    "\n",
    "connection = create_db_connection(\"localhost\", \"root\", \"Subhajitecon@18398\", \"class\") # Connect to the Database\n",
    "execute_query(connection, create_classtable3) # Execute our defined query\n"
   ]
  },
  {
   "cell_type": "code",
   "execution_count": 11,
   "metadata": {},
   "outputs": [
    {
     "name": "stdout",
     "output_type": "stream",
     "text": [
      "MySQL Database connection successful\n",
      "Query successful\n",
      "Query successful\n"
     ]
    }
   ],
   "source": [
    "create_classteacher3_table = \"\"\"\n",
    "CREATE TABLE classteacher3 (\n",
    "  PFID INT NOT NULL PRIMARY KEY,\n",
    "  Name VARCHAR(40) NOT NULL,\n",
    "  Subject VARCHAR(20),\n",
    "  Gender VARCHAR(8),\n",
    "  Age INT\n",
    ");\n",
    " \"\"\"\n",
    "\n",
    "create_classroom3_table = \"\"\"\n",
    "CREATE TABLE classroom3 (\n",
    "  Room INT NOT NULL PRIMARY KEY,\n",
    "  BuildingName VARCHAR(40) NOT NULL\n",
    ");\n",
    "\"\"\"\n",
    "\n",
    "\n",
    "connection = create_db_connection(\"localhost\", \"root\", \"Subhajitecon@18398\", \"class\")\n",
    "execute_query(connection, create_classteacher3_table)\n",
    "execute_query(connection, create_classroom3_table)\n"
   ]
  },
  {
   "cell_type": "code",
   "execution_count": 12,
   "metadata": {},
   "outputs": [
    {
     "name": "stdout",
     "output_type": "stream",
     "text": [
      "MySQL Database connection successful\n",
      "Error: '{err}'\n"
     ]
    }
   ],
   "source": [
    "alter_classteacher3 = \"\"\"\n",
    "ALTER TABLE classteacher3\n",
    "ADD FOREIGN KEY(classteacher3)\n",
    "REFERENCES classteacher3(Subject)\n",
    "ON DELETE SET NULL;\n",
    "\"\"\"\n",
    "\n",
    "connection = create_db_connection(\"localhost\", \"root\", \"Subhajitecon@18398\", \"class\")\n",
    "execute_query(connection, alter_classteacher3)\n"
   ]
  },
  {
   "cell_type": "code",
   "execution_count": null,
   "metadata": {},
   "outputs": [],
   "source": []
  },
  {
   "cell_type": "markdown",
   "metadata": {},
   "source": [
    "# Drop table "
   ]
  },
  {
   "cell_type": "code",
   "execution_count": 13,
   "metadata": {},
   "outputs": [
    {
     "name": "stdout",
     "output_type": "stream",
     "text": [
      "MySQL Database connection successful\n",
      "Query successful\n"
     ]
    }
   ],
   "source": [
    "drop_table = \"\"\"DROP TABLE classroom3\"\"\"\n",
    "\n",
    "connection = create_db_connection(\"localhost\", \"root\", \"Subhajitecon@18398\", \"class\") \n",
    "execute_query(connection, drop_table)"
   ]
  },
  {
   "cell_type": "markdown",
   "metadata": {},
   "source": [
    "# Inserting data into the table"
   ]
  },
  {
   "cell_type": "code",
   "execution_count": 14,
   "metadata": {},
   "outputs": [
    {
     "name": "stdout",
     "output_type": "stream",
     "text": [
      "MySQL Database connection successful\n",
      "Query successful\n"
     ]
    }
   ],
   "source": [
    "pop_classtable3 = \"\"\"\n",
    "INSERT INTO classtable3 VALUES\n",
    "(1, \"John\", \"Four\", 75, \"F\", \"BIO\"),\n",
    "(2, \"Max\", \"Three\", 85, \"M\", \"PHY\"), \n",
    "(3, \"Jerry\", \"Three\", 55, \"F\", \"CHM\"),\n",
    "(4, \"Andreas\", \"Four\", 60, \"M\", \"ECO\"),\n",
    "(5, \"Tes\", \"Second\", 78, \"M\", \"DSE\")\n",
    "\"\"\"\n",
    "connection = create_db_connection(\"localhost\", \"root\", \"Subhajitecon@18398\", \"class\")\n",
    "execute_query(connection, pop_classtable3)"
   ]
  },
  {
   "cell_type": "code",
   "execution_count": 15,
   "metadata": {},
   "outputs": [
    {
     "name": "stdout",
     "output_type": "stream",
     "text": [
      "MySQL Database connection successful\n",
      "Query successful\n"
     ]
    }
   ],
   "source": [
    "pop_classteacher3 = \"\"\"\n",
    "INSERT INTO classteacher3 VALUES\n",
    "(101, \"Matt\", \"CHM\", \"M\", 28),\n",
    "(102, \"Janet\", \"PHY\",  \"F\", 27), \n",
    "(103, \"Phil\", \"BIO\", \"M\", 25),\n",
    "(104, \"Andreas\",  \"ECO\", \"M\", 32),\n",
    "(105, \"Nicolas\", \"GT\", \"M\", 40)\n",
    "\"\"\"\n",
    "connection = create_db_connection(\"localhost\", \"root\", \"Subhajitecon@18398\", \"class\")\n",
    "execute_query(connection, pop_classteacher3)"
   ]
  },
  {
   "cell_type": "markdown",
   "metadata": {},
   "source": [
    "# SELECT Command"
   ]
  },
  {
   "cell_type": "code",
   "execution_count": 16,
   "metadata": {},
   "outputs": [
    {
     "name": "stdout",
     "output_type": "stream",
     "text": [
      "MySQL Database connection successful\n",
      "(1, 'John', 'Four', 75, 'F', 'BIO')\n",
      "(3, 'Jerry', 'Three', 55, 'F', 'CHM')\n",
      "(5, 'Tes', 'Second', 78, 'M', 'DSE')\n",
      "(4, 'Andreas', 'Four', 60, 'M', 'ECO')\n",
      "(2, 'Max', 'Three', 85, 'M', 'PHY')\n"
     ]
    }
   ],
   "source": [
    "q1 = \"\"\"\n",
    "SELECT *\n",
    "FROM classtable3;\n",
    "\"\"\"\n",
    "\n",
    "connection = create_db_connection(\"localhost\", \"root\", \"Subhajitecon@18398\", \"class\")\n",
    "results = read_query(connection, q1)\n",
    "\n",
    "for result in results:\n",
    "  print(result)"
   ]
  },
  {
   "cell_type": "code",
   "execution_count": 17,
   "metadata": {},
   "outputs": [
    {
     "name": "stdout",
     "output_type": "stream",
     "text": [
      "MySQL Database connection successful\n",
      "(3, 'Jerry', 'Three', 55, 'F', 'CHM')\n",
      "(4, 'Andreas', 'Four', 60, 'M', 'ECO')\n",
      "('John', 'F')\n",
      "('Jerry', 'F')\n",
      "('Tes', 'M')\n",
      "('Andreas', 'M')\n",
      "('Max', 'M')\n"
     ]
    }
   ],
   "source": [
    "q2 = \"\"\"\n",
    "SELECT Name, Gender\n",
    "FROM classtable3;\n",
    "\"\"\"\n",
    "q3 = \"\"\"\n",
    "SELECT *\n",
    "FROM classtable3\n",
    "WHERE Marks < 70;\n",
    "\"\"\"\n",
    "connection = create_db_connection(\"localhost\", \"root\", \"Subhajitecon@18398\", \"class\")\n",
    "results2 = read_query(connection, q2)\n",
    "results3 = read_query(connection, q3)\n",
    "\n",
    "for result in results3:\n",
    "    print(result)\n",
    "for result in results2:\n",
    "    print(result)"
   ]
  },
  {
   "cell_type": "code",
   "execution_count": 18,
   "metadata": {},
   "outputs": [
    {
     "data": {
      "text/html": [
       "<div>\n",
       "<style scoped>\n",
       "    .dataframe tbody tr th:only-of-type {\n",
       "        vertical-align: middle;\n",
       "    }\n",
       "\n",
       "    .dataframe tbody tr th {\n",
       "        vertical-align: top;\n",
       "    }\n",
       "\n",
       "    .dataframe thead th {\n",
       "        text-align: right;\n",
       "    }\n",
       "</style>\n",
       "<table border=\"1\" class=\"dataframe\">\n",
       "  <thead>\n",
       "    <tr style=\"text-align: right;\">\n",
       "      <th></th>\n",
       "      <th>RollNumber</th>\n",
       "      <th>Name</th>\n",
       "      <th>Year</th>\n",
       "      <th>Gender</th>\n",
       "      <th>Age</th>\n",
       "      <th>Subject</th>\n",
       "    </tr>\n",
       "  </thead>\n",
       "  <tbody>\n",
       "    <tr>\n",
       "      <th>0</th>\n",
       "      <td>1</td>\n",
       "      <td>John</td>\n",
       "      <td>Four</td>\n",
       "      <td>75</td>\n",
       "      <td>F</td>\n",
       "      <td>BIO</td>\n",
       "    </tr>\n",
       "    <tr>\n",
       "      <th>1</th>\n",
       "      <td>3</td>\n",
       "      <td>Jerry</td>\n",
       "      <td>Three</td>\n",
       "      <td>55</td>\n",
       "      <td>F</td>\n",
       "      <td>CHM</td>\n",
       "    </tr>\n",
       "    <tr>\n",
       "      <th>2</th>\n",
       "      <td>5</td>\n",
       "      <td>Tes</td>\n",
       "      <td>Second</td>\n",
       "      <td>78</td>\n",
       "      <td>M</td>\n",
       "      <td>DSE</td>\n",
       "    </tr>\n",
       "    <tr>\n",
       "      <th>3</th>\n",
       "      <td>4</td>\n",
       "      <td>Andreas</td>\n",
       "      <td>Four</td>\n",
       "      <td>60</td>\n",
       "      <td>M</td>\n",
       "      <td>ECO</td>\n",
       "    </tr>\n",
       "    <tr>\n",
       "      <th>4</th>\n",
       "      <td>2</td>\n",
       "      <td>Max</td>\n",
       "      <td>Three</td>\n",
       "      <td>85</td>\n",
       "      <td>M</td>\n",
       "      <td>PHY</td>\n",
       "    </tr>\n",
       "  </tbody>\n",
       "</table>\n",
       "</div>"
      ],
      "text/plain": [
       "   RollNumber     Name    Year  Gender Age Subject\n",
       "0           1     John    Four      75   F     BIO\n",
       "1           3    Jerry   Three      55   F     CHM\n",
       "2           5      Tes  Second      78   M     DSE\n",
       "3           4  Andreas    Four      60   M     ECO\n",
       "4           2      Max   Three      85   M     PHY"
      ]
     },
     "metadata": {},
     "output_type": "display_data"
    }
   ],
   "source": [
    "# Returns a list of lists and then creates a pandas DataFrame\n",
    "from_db = []\n",
    "\n",
    "for result in results:\n",
    "  result = list(result)\n",
    "  from_db.append(result)\n",
    "\n",
    "\n",
    "columns = [\"RollNumber\", \"Name\", \"Year\", \"Gender\", \"Age\", \"Subject\"]\n",
    "df = pd.DataFrame(from_db, columns=columns)\n",
    "\n",
    "display(df)"
   ]
  },
  {
   "cell_type": "code",
   "execution_count": 19,
   "metadata": {},
   "outputs": [
    {
     "data": {
      "text/html": [
       "<div>\n",
       "<style scoped>\n",
       "    .dataframe tbody tr th:only-of-type {\n",
       "        vertical-align: middle;\n",
       "    }\n",
       "\n",
       "    .dataframe tbody tr th {\n",
       "        vertical-align: top;\n",
       "    }\n",
       "\n",
       "    .dataframe thead th {\n",
       "        text-align: right;\n",
       "    }\n",
       "</style>\n",
       "<table border=\"1\" class=\"dataframe\">\n",
       "  <thead>\n",
       "    <tr style=\"text-align: right;\">\n",
       "      <th></th>\n",
       "      <th>Name</th>\n",
       "      <th>Gender</th>\n",
       "    </tr>\n",
       "  </thead>\n",
       "  <tbody>\n",
       "    <tr>\n",
       "      <th>0</th>\n",
       "      <td>John</td>\n",
       "      <td>F</td>\n",
       "    </tr>\n",
       "    <tr>\n",
       "      <th>1</th>\n",
       "      <td>Jerry</td>\n",
       "      <td>F</td>\n",
       "    </tr>\n",
       "    <tr>\n",
       "      <th>2</th>\n",
       "      <td>Tes</td>\n",
       "      <td>M</td>\n",
       "    </tr>\n",
       "    <tr>\n",
       "      <th>3</th>\n",
       "      <td>Andreas</td>\n",
       "      <td>M</td>\n",
       "    </tr>\n",
       "    <tr>\n",
       "      <th>4</th>\n",
       "      <td>Max</td>\n",
       "      <td>M</td>\n",
       "    </tr>\n",
       "  </tbody>\n",
       "</table>\n",
       "</div>"
      ],
      "text/plain": [
       "      Name Gender\n",
       "0     John      F\n",
       "1    Jerry      F\n",
       "2      Tes      M\n",
       "3  Andreas      M\n",
       "4      Max      M"
      ]
     },
     "metadata": {},
     "output_type": "display_data"
    }
   ],
   "source": [
    "from_db1 = []\n",
    "\n",
    "for result in results2:\n",
    "  result = list(result)\n",
    "  from_db1.append(result)\n",
    "\n",
    "\n",
    "columns1 = [\"Name\", \"Gender\"]\n",
    "df1 = pd.DataFrame(from_db1, columns=columns1)\n",
    "\n",
    "display(df1)"
   ]
  },
  {
   "cell_type": "markdown",
   "metadata": {},
   "source": [
    "# Updating data in table"
   ]
  },
  {
   "cell_type": "markdown",
   "metadata": {},
   "source": [
    "# Modify a Table"
   ]
  },
  {
   "cell_type": "code",
   "execution_count": 20,
   "metadata": {},
   "outputs": [
    {
     "name": "stdout",
     "output_type": "stream",
     "text": [
      "MySQL Database connection successful\n",
      "Query successful\n"
     ]
    }
   ],
   "source": [
    "alter3 = \"\"\"\n",
    "ALTER TABLE classteacher3\n",
    "RENAME COLUMN Subject TO Department;\n",
    "\"\"\"\n",
    "\n",
    "\n",
    "connection = create_db_connection(\"localhost\", \"root\", \"Subhajitecon@18398\", \"class\")\n",
    "execute_query(connection, alter3)"
   ]
  },
  {
   "cell_type": "code",
   "execution_count": 21,
   "metadata": {},
   "outputs": [
    {
     "name": "stdout",
     "output_type": "stream",
     "text": [
      "MySQL Database connection successful\n",
      "(101, 'Matt', 'CHM', 'M', 28)\n",
      "(103, 'Phil', 'BIO', 'M', 25)\n",
      "(104, 'Andreas', 'ECO', 'M', 32)\n",
      "(105, 'Nicolas', 'GT', 'M', 40)\n"
     ]
    }
   ],
   "source": [
    "q5 = \"\"\"\n",
    "SELECT *\n",
    "FROM classteacher3\n",
    "WHERE Gender = \"M\";\n",
    "\"\"\"\n",
    "connection = create_db_connection(\"localhost\", \"root\", \"Subhajitecon@18398\", \"class\")\n",
    "results3 = read_query(connection, q5)\n",
    "\n",
    "for i in results3:\n",
    "  print(i)"
   ]
  },
  {
   "cell_type": "markdown",
   "metadata": {},
   "source": [
    "## Deleting Records from a table "
   ]
  },
  {
   "cell_type": "code",
   "execution_count": 22,
   "metadata": {},
   "outputs": [
    {
     "name": "stdout",
     "output_type": "stream",
     "text": [
      "MySQL Database connection successful\n",
      "(1, 'John', 'Four', 75, 'F', 'BIO')\n",
      "(3, 'Jerry', 'Three', 55, 'F', 'CHM')\n",
      "(5, 'Tes', 'Second', 78, 'M', 'DSE')\n",
      "(4, 'Andreas', 'Four', 60, 'M', 'ECO')\n",
      "(2, 'Max', 'Three', 85, 'M', 'PHY')\n"
     ]
    }
   ],
   "source": [
    "q6 = \"\"\"\n",
    "SELECT *\n",
    "FROM classtable3;\n",
    "\"\"\"\n",
    "\n",
    "connection = create_db_connection(\"localhost\", \"root\", \"Subhajitecon@18398\", \"class\")\n",
    "results = read_query(connection, q6)\n",
    "\n",
    "from_db = []\n",
    "\n",
    "for result in results:\n",
    "  print(result)"
   ]
  },
  {
   "cell_type": "code",
   "execution_count": 25,
   "metadata": {},
   "outputs": [
    {
     "name": "stdout",
     "output_type": "stream",
     "text": [
      "MySQL Database connection successful\n",
      "Query successful\n"
     ]
    }
   ],
   "source": [
    "delete_classtable3 = \"\"\"\n",
    "DELETE FROM classtable3 WHERE RollNumber = 2;\n",
    "\"\"\"\n",
    "\n",
    "connection = create_db_connection(\"localhost\", \"root\", \"Subhajitecon@18398\", \"class\")\n",
    "execute_query(connection, delete_classtable3)"
   ]
  },
  {
   "cell_type": "code",
   "execution_count": 26,
   "metadata": {},
   "outputs": [
    {
     "name": "stdout",
     "output_type": "stream",
     "text": [
      "MySQL Database connection successful\n",
      "(1, 'John', 'Four', 75, 'F', 'BIO')\n",
      "(3, 'Jerry', 'Three', 55, 'F', 'CHM')\n",
      "(5, 'Tes', 'Second', 78, 'M', 'DSE')\n",
      "(4, 'Andreas', 'Four', 60, 'M', 'ECO')\n"
     ]
    }
   ],
   "source": [
    "q7 = \"\"\"\n",
    "SELECT *\n",
    "FROM classtable3;\n",
    "\"\"\"\n",
    "\n",
    "connection = create_db_connection(\"localhost\", \"root\", \"Subhajitecon@18398\", \"class\")\n",
    "results = read_query(connection, q7)\n",
    "\n",
    "from_db = []\n",
    "\n",
    "for result in results:\n",
    "  print(result)"
   ]
  },
  {
   "cell_type": "markdown",
   "metadata": {},
   "source": [
    "# "
   ]
  },
  {
   "cell_type": "markdown",
   "metadata": {},
   "source": [
    "## Creating a new user"
   ]
  },
  {
   "cell_type": "code",
   "execution_count": 27,
   "metadata": {},
   "outputs": [
    {
     "name": "stdout",
     "output_type": "stream",
     "text": [
      "MySQL Database connection successful\n",
      "Error: '{err}'\n",
      "('GRANT USAGE ON *.* TO `red`@`localhost`',)\n",
      "Query successful\n"
     ]
    }
   ],
   "source": [
    "create_user = \"\"\"CREATE USER 'red'@'localhost' IDENTIFIED BY 'Home20';\"\"\"\n",
    "connection = create_db_connection(\"localhost\", \"root\", \"Subhajitecon@18398\", \"class\")\n",
    "execute_query(connection, create_user)\n",
    "\n",
    "show = read_query(connection, \"\"\"SHOW GRANTS FOR 'red'@'localhost';\"\"\")\n",
    "for result in show:\n",
    "  print(result)\n",
    "\n",
    "execute_query(connection, \"FLUSH PRIVILEGES;\")"
   ]
  },
  {
   "cell_type": "markdown",
   "metadata": {},
   "source": [
    "# Granting Privilages"
   ]
  },
  {
   "cell_type": "code",
   "execution_count": 28,
   "metadata": {},
   "outputs": [
    {
     "name": "stdout",
     "output_type": "stream",
     "text": [
      "MySQL Database connection successful\n",
      "Query successful\n",
      "('GRANT SELECT, INSERT, UPDATE, DELETE, CREATE, DROP, RELOAD, SHUTDOWN, PROCESS, FILE, REFERENCES, INDEX, ALTER, SHOW DATABASES, SUPER, CREATE TEMPORARY TABLES, LOCK TABLES, EXECUTE, REPLICATION SLAVE, REPLICATION CLIENT, CREATE VIEW, SHOW VIEW, CREATE ROUTINE, ALTER ROUTINE, CREATE USER, EVENT, TRIGGER, CREATE TABLESPACE, CREATE ROLE, DROP ROLE ON *.* TO `root`@`localhost` WITH GRANT OPTION',)\n",
      "('GRANT APPLICATION_PASSWORD_ADMIN,AUDIT_ABORT_EXEMPT,AUDIT_ADMIN,AUTHENTICATION_POLICY_ADMIN,BACKUP_ADMIN,BINLOG_ADMIN,BINLOG_ENCRYPTION_ADMIN,CLONE_ADMIN,CONNECTION_ADMIN,ENCRYPTION_KEY_ADMIN,FLUSH_OPTIMIZER_COSTS,FLUSH_STATUS,FLUSH_TABLES,FLUSH_USER_RESOURCES,GROUP_REPLICATION_ADMIN,GROUP_REPLICATION_STREAM,INNODB_REDO_LOG_ARCHIVE,INNODB_REDO_LOG_ENABLE,PASSWORDLESS_USER_ADMIN,PERSIST_RO_VARIABLES_ADMIN,REPLICATION_APPLIER,REPLICATION_SLAVE_ADMIN,RESOURCE_GROUP_ADMIN,RESOURCE_GROUP_USER,ROLE_ADMIN,SERVICE_CONNECTION_ADMIN,SESSION_VARIABLES_ADMIN,SET_USER_ID,SHOW_ROUTINE,SYSTEM_USER,SYSTEM_VARIABLES_ADMIN,TABLE_ENCRYPTION_ADMIN,XA_RECOVER_ADMIN ON *.* TO `root`@`localhost` WITH GRANT OPTION',)\n",
      "('GRANT SELECT ON `class`.`classtable1` TO `root`@`localhost`',)\n",
      "('GRANT SELECT, INSERT ON `class`.`classtable3` TO `root`@`localhost`',)\n",
      "('GRANT SELECT, INSERT ON `class`.`classtable` TO `root`@`localhost`',)\n",
      "('GRANT SELECT, INSERT ON `staff`.`staffmanagers` TO `root`@`localhost`',)\n",
      "('GRANT PROXY ON ``@`` TO `root`@`localhost` WITH GRANT OPTION',)\n"
     ]
    }
   ],
   "source": [
    "grant_privilages = \"\"\"Grant SELECT,insert on class.classtable3 to 'root'@'localhost'\"\"\"\n",
    "\n",
    "connection = create_db_connection(\"localhost\", \"root\", \"Subhajitecon@18398\", \"class\")\n",
    "execute_query(connection, grant_privilages)\n",
    "\n",
    "results = read_query(connection, \"\"\"SHOW GRANTS FOR 'root'@'localhost';\"\"\")\n",
    "\n",
    "for result in results:\n",
    "  print(result)"
   ]
  },
  {
   "cell_type": "markdown",
   "metadata": {},
   "source": [
    "# Revoking Privilages"
   ]
  },
  {
   "cell_type": "code",
   "execution_count": 29,
   "metadata": {},
   "outputs": [
    {
     "name": "stdout",
     "output_type": "stream",
     "text": [
      "MySQL Database connection successful\n",
      "Query successful\n",
      "('GRANT SELECT, INSERT, UPDATE, DELETE, CREATE, DROP, RELOAD, SHUTDOWN, PROCESS, FILE, REFERENCES, INDEX, ALTER, SHOW DATABASES, SUPER, CREATE TEMPORARY TABLES, LOCK TABLES, EXECUTE, REPLICATION SLAVE, REPLICATION CLIENT, CREATE VIEW, SHOW VIEW, CREATE ROUTINE, ALTER ROUTINE, CREATE USER, EVENT, TRIGGER, CREATE TABLESPACE, CREATE ROLE, DROP ROLE ON *.* TO `root`@`localhost` WITH GRANT OPTION',)\n",
      "('GRANT APPLICATION_PASSWORD_ADMIN,AUDIT_ABORT_EXEMPT,AUDIT_ADMIN,AUTHENTICATION_POLICY_ADMIN,BACKUP_ADMIN,BINLOG_ADMIN,BINLOG_ENCRYPTION_ADMIN,CLONE_ADMIN,CONNECTION_ADMIN,ENCRYPTION_KEY_ADMIN,FLUSH_OPTIMIZER_COSTS,FLUSH_STATUS,FLUSH_TABLES,FLUSH_USER_RESOURCES,GROUP_REPLICATION_ADMIN,GROUP_REPLICATION_STREAM,INNODB_REDO_LOG_ARCHIVE,INNODB_REDO_LOG_ENABLE,PASSWORDLESS_USER_ADMIN,PERSIST_RO_VARIABLES_ADMIN,REPLICATION_APPLIER,REPLICATION_SLAVE_ADMIN,RESOURCE_GROUP_ADMIN,RESOURCE_GROUP_USER,ROLE_ADMIN,SERVICE_CONNECTION_ADMIN,SESSION_VARIABLES_ADMIN,SET_USER_ID,SHOW_ROUTINE,SYSTEM_USER,SYSTEM_VARIABLES_ADMIN,TABLE_ENCRYPTION_ADMIN,XA_RECOVER_ADMIN ON *.* TO `root`@`localhost` WITH GRANT OPTION',)\n",
      "('GRANT SELECT ON `class`.`classtable1` TO `root`@`localhost`',)\n",
      "('GRANT SELECT ON `class`.`classtable3` TO `root`@`localhost`',)\n",
      "('GRANT SELECT, INSERT ON `class`.`classtable` TO `root`@`localhost`',)\n",
      "('GRANT SELECT, INSERT ON `staff`.`staffmanagers` TO `root`@`localhost`',)\n",
      "('GRANT PROXY ON ``@`` TO `root`@`localhost` WITH GRANT OPTION',)\n"
     ]
    }
   ],
   "source": [
    "revoke_privilages = \"\"\"revoke insert on class.classtable3 from 'root'@'localhost';\"\"\"\n",
    "\n",
    "connection = create_db_connection(\"localhost\", \"root\", \"Subhajitecon@18398\", \"class\")\n",
    "execute_query(connection, revoke_privilages)\n",
    "\n",
    "results = read_query(connection, \"\"\"SHOW GRANTS FOR 'root'@'localhost';\"\"\")\n",
    "\n",
    "for result in results:\n",
    "  print(result)"
   ]
  },
  {
   "cell_type": "code",
   "execution_count": null,
   "metadata": {},
   "outputs": [],
   "source": []
  }
 ],
 "metadata": {
  "interpreter": {
   "hash": "b0fa6594d8f4cbf19f97940f81e996739fb7646882a419484c72d19e05852a7e"
  },
  "kernelspec": {
   "display_name": "Python 3",
   "language": "python",
   "name": "python3"
  },
  "language_info": {
   "codemirror_mode": {
    "name": "ipython",
    "version": 3
   },
   "file_extension": ".py",
   "mimetype": "text/x-python",
   "name": "python",
   "nbconvert_exporter": "python",
   "pygments_lexer": "ipython3",
   "version": "3.8.3"
  }
 },
 "nbformat": 4,
 "nbformat_minor": 2
}
